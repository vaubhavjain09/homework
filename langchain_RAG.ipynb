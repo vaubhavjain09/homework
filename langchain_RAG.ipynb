{
 "cells": [
  {
   "cell_type": "code",
   "execution_count": 3,
   "id": "e8d591f7-fd8d-4057-b29b-0dfa9946674f",
   "metadata": {
    "tags": []
   },
   "outputs": [
    {
     "ename": "ModuleNotFoundError",
     "evalue": "No module named 'pandas'",
     "output_type": "error",
     "traceback": [
      "\u001b[0;31m---------------------------------------------------------------------------\u001b[0m",
      "\u001b[0;31mModuleNotFoundError\u001b[0m                       Traceback (most recent call last)",
      "Cell \u001b[0;32mIn[3], line 3\u001b[0m\n\u001b[1;32m      1\u001b[0m \u001b[38;5;28;01mimport\u001b[39;00m \u001b[38;5;21;01mos\u001b[39;00m\n\u001b[1;32m      2\u001b[0m \u001b[38;5;28;01mimport\u001b[39;00m \u001b[38;5;21;01mnumpy\u001b[39;00m \u001b[38;5;28;01mas\u001b[39;00m \u001b[38;5;21;01mnp\u001b[39;00m\n\u001b[0;32m----> 3\u001b[0m \u001b[38;5;28;01mimport\u001b[39;00m \u001b[38;5;21;01mpandas\u001b[39;00m \u001b[38;5;28;01mas\u001b[39;00m \u001b[38;5;21;01mpd\u001b[39;00m\n\u001b[1;32m      4\u001b[0m \u001b[38;5;28;01mimport\u001b[39;00m \u001b[38;5;21;01mopenai\u001b[39;00m\n\u001b[1;32m      7\u001b[0m \u001b[38;5;28;01mfrom\u001b[39;00m \u001b[38;5;21;01mapi_keys\u001b[39;00m \u001b[38;5;28;01mimport\u001b[39;00m open_ai_key\n",
      "\u001b[0;31mModuleNotFoundError\u001b[0m: No module named 'pandas'"
     ]
    }
   ],
   "source": [
    "import os\n",
    "import numpy as np\n",
    "import pandas as pd\n",
    "import openai\n",
    "\n",
    "\n",
    "from api_keys import open_ai_key\n",
    "os.environ[\"OPENAI_API_KEY\"] = open_ai_key"
   ]
  },
  {
   "cell_type": "code",
   "execution_count": 2,
   "id": "e812b7d7",
   "metadata": {},
   "outputs": [
    {
     "ename": "NameError",
     "evalue": "name 'os' is not defined",
     "output_type": "error",
     "traceback": [
      "\u001b[0;31m---------------------------------------------------------------------------\u001b[0m",
      "\u001b[0;31mNameError\u001b[0m                                 Traceback (most recent call last)",
      "Cell \u001b[0;32mIn[2], line 2\u001b[0m\n\u001b[1;32m      1\u001b[0m \u001b[38;5;28;01mfrom\u001b[39;00m \u001b[38;5;21;01mapi_keys\u001b[39;00m \u001b[38;5;28;01mimport\u001b[39;00m open_ai_key\n\u001b[0;32m----> 2\u001b[0m \u001b[43mos\u001b[49m\u001b[38;5;241m.\u001b[39menviron[\u001b[38;5;124m\"\u001b[39m\u001b[38;5;124mOPENAI_API_KEY\u001b[39m\u001b[38;5;124m\"\u001b[39m] \u001b[38;5;241m=\u001b[39m open_ai_key\n",
      "\u001b[0;31mNameError\u001b[0m: name 'os' is not defined"
     ]
    }
   ],
   "source": []
  },
  {
   "cell_type": "code",
   "execution_count": 21,
   "id": "52357529-8e68-4ede-a623-48bcf6970b8d",
   "metadata": {
    "tags": []
   },
   "outputs": [],
   "source": []
  },
  {
   "cell_type": "raw",
   "id": "2b67e26d-b0c6-4397-83d4-a56d3ac024f8",
   "metadata": {
    "tags": []
   },
   "source": [
    "# Set up OpenAI API credentials\n",
    "openai.api_key = os.environ[\"OPENAI_API_KEY\"]\n",
    "\n",
    "# Define your training data\n",
    "training_data = [\"Future of AI is very dangerous.\", \"We can have multiple LLM fighting with each other for superiority.\", \n",
    "                 \"The victor may be controlling the world.\"]\n",
    "\n",
    "# Define the prompt to start the training\n",
    "prompt = (f\"Using the following sentences, write 100 more words on the topic in a single paragraph:\\n\"\n",
    "          f\"{training_data[0]}\\n\"\n",
    "          f\"{training_data[1]}\\n\"\n",
    "          f\"{training_data[2]}\\n\"\n",
    "          f\"\\n\"\n",
    "          f\"Also mention that how confident are you with the response on scale of 0-100\")\n",
    "\n",
    "# Define the parameters for the GPT-3 API\n",
    "params = {\n",
    "    \"engine\": \"text-davinci-003\",\n",
    "    \"temperature\": 1,\n",
    "    \"max_tokens\": 100,\n",
    "    # \"top_p\": 1,\n",
    "    \"frequency_penalty\": 0,\n",
    "    \"presence_penalty\": 0\n",
    "}\n",
    "\n",
    "# Train the model\n",
    "response = openai.Completion.create(\n",
    "    prompt=prompt,\n",
    "    **params\n",
    ")\n",
    "\n",
    "# Print the generated text\n",
    "print(response.choices[0].text)"
   ]
  },
  {
   "cell_type": "code",
   "execution_count": 10,
   "id": "73f727c4-3462-4a50-b457-0100542eca87",
   "metadata": {
    "collapsed": true,
    "jupyter": {
     "outputs_hidden": true
    },
    "tags": []
   },
   "outputs": [
    {
     "name": "stdout",
     "output_type": "stream",
     "text": [
      "Requirement already satisfied: langchain in /Users/vaibhavjain/miniconda3/envs/gpt/lib/python3.11/site-packages (0.1.8)\n",
      "Requirement already satisfied: langchain-openai in /Users/vaibhavjain/miniconda3/envs/gpt/lib/python3.11/site-packages (0.0.6)\n",
      "Requirement already satisfied: faiss-cpu in /Users/vaibhavjain/miniconda3/envs/gpt/lib/python3.11/site-packages (1.7.4)\n",
      "Requirement already satisfied: tiktoken in /Users/vaibhavjain/miniconda3/envs/gpt/lib/python3.11/site-packages (0.6.0)\n",
      "Requirement already satisfied: PyYAML>=5.3 in /Users/vaibhavjain/miniconda3/envs/gpt/lib/python3.11/site-packages (from langchain) (6.0)\n",
      "Requirement already satisfied: SQLAlchemy<3,>=1.4 in /Users/vaibhavjain/miniconda3/envs/gpt/lib/python3.11/site-packages (from langchain) (1.4.47)\n",
      "Requirement already satisfied: aiohttp<4.0.0,>=3.8.3 in /Users/vaibhavjain/miniconda3/envs/gpt/lib/python3.11/site-packages (from langchain) (3.8.4)\n",
      "Requirement already satisfied: dataclasses-json<0.7,>=0.5.7 in /Users/vaibhavjain/miniconda3/envs/gpt/lib/python3.11/site-packages (from langchain) (0.5.7)\n",
      "Requirement already satisfied: jsonpatch<2.0,>=1.33 in /Users/vaibhavjain/miniconda3/envs/gpt/lib/python3.11/site-packages (from langchain) (1.33)\n",
      "Requirement already satisfied: langchain-community<0.1,>=0.0.21 in /Users/vaibhavjain/miniconda3/envs/gpt/lib/python3.11/site-packages (from langchain) (0.0.21)\n",
      "Requirement already satisfied: langchain-core<0.2,>=0.1.24 in /Users/vaibhavjain/miniconda3/envs/gpt/lib/python3.11/site-packages (from langchain) (0.1.26)\n",
      "Requirement already satisfied: langsmith<0.2.0,>=0.1.0 in /Users/vaibhavjain/miniconda3/envs/gpt/lib/python3.11/site-packages (from langchain) (0.1.5)\n",
      "Requirement already satisfied: numpy<2,>=1 in /Users/vaibhavjain/miniconda3/envs/gpt/lib/python3.11/site-packages (from langchain) (1.23.5)\n",
      "Requirement already satisfied: pydantic<3,>=1 in /Users/vaibhavjain/miniconda3/envs/gpt/lib/python3.11/site-packages (from langchain) (1.10.6)\n",
      "Requirement already satisfied: requests<3,>=2 in /Users/vaibhavjain/miniconda3/envs/gpt/lib/python3.11/site-packages (from langchain) (2.28.2)\n",
      "Requirement already satisfied: tenacity<9.0.0,>=8.1.0 in /Users/vaibhavjain/miniconda3/envs/gpt/lib/python3.11/site-packages (from langchain) (8.2.2)\n",
      "Requirement already satisfied: openai<2.0.0,>=1.10.0 in /Users/vaibhavjain/miniconda3/envs/gpt/lib/python3.11/site-packages (from langchain-openai) (1.12.0)\n",
      "Requirement already satisfied: regex>=2022.1.18 in /Users/vaibhavjain/miniconda3/envs/gpt/lib/python3.11/site-packages (from tiktoken) (2023.3.23)\n",
      "Requirement already satisfied: attrs>=17.3.0 in /Users/vaibhavjain/miniconda3/envs/gpt/lib/python3.11/site-packages (from aiohttp<4.0.0,>=3.8.3->langchain) (22.2.0)\n",
      "Requirement already satisfied: charset-normalizer<4.0,>=2.0 in /Users/vaibhavjain/miniconda3/envs/gpt/lib/python3.11/site-packages (from aiohttp<4.0.0,>=3.8.3->langchain) (3.1.0)\n",
      "Requirement already satisfied: multidict<7.0,>=4.5 in /Users/vaibhavjain/miniconda3/envs/gpt/lib/python3.11/site-packages (from aiohttp<4.0.0,>=3.8.3->langchain) (6.0.4)\n",
      "Requirement already satisfied: async-timeout<5.0,>=4.0.0a3 in /Users/vaibhavjain/miniconda3/envs/gpt/lib/python3.11/site-packages (from aiohttp<4.0.0,>=3.8.3->langchain) (4.0.2)\n",
      "Requirement already satisfied: yarl<2.0,>=1.0 in /Users/vaibhavjain/miniconda3/envs/gpt/lib/python3.11/site-packages (from aiohttp<4.0.0,>=3.8.3->langchain) (1.8.2)\n",
      "Requirement already satisfied: frozenlist>=1.1.1 in /Users/vaibhavjain/miniconda3/envs/gpt/lib/python3.11/site-packages (from aiohttp<4.0.0,>=3.8.3->langchain) (1.3.3)\n",
      "Requirement already satisfied: aiosignal>=1.1.2 in /Users/vaibhavjain/miniconda3/envs/gpt/lib/python3.11/site-packages (from aiohttp<4.0.0,>=3.8.3->langchain) (1.3.1)\n",
      "Requirement already satisfied: marshmallow<4.0.0,>=3.3.0 in /Users/vaibhavjain/miniconda3/envs/gpt/lib/python3.11/site-packages (from dataclasses-json<0.7,>=0.5.7->langchain) (3.19.0)\n",
      "Requirement already satisfied: marshmallow-enum<2.0.0,>=1.5.1 in /Users/vaibhavjain/miniconda3/envs/gpt/lib/python3.11/site-packages (from dataclasses-json<0.7,>=0.5.7->langchain) (1.5.1)\n",
      "Requirement already satisfied: typing-inspect>=0.4.0 in /Users/vaibhavjain/miniconda3/envs/gpt/lib/python3.11/site-packages (from dataclasses-json<0.7,>=0.5.7->langchain) (0.8.0)\n",
      "Requirement already satisfied: jsonpointer>=1.9 in /Users/vaibhavjain/miniconda3/envs/gpt/lib/python3.11/site-packages (from jsonpatch<2.0,>=1.33->langchain) (2.3)\n",
      "Requirement already satisfied: anyio<5,>=3 in /Users/vaibhavjain/miniconda3/envs/gpt/lib/python3.11/site-packages (from langchain-core<0.2,>=0.1.24->langchain) (3.6.2)\n",
      "Requirement already satisfied: packaging<24.0,>=23.2 in /Users/vaibhavjain/miniconda3/envs/gpt/lib/python3.11/site-packages (from langchain-core<0.2,>=0.1.24->langchain) (23.2)\n",
      "Requirement already satisfied: distro<2,>=1.7.0 in /Users/vaibhavjain/miniconda3/envs/gpt/lib/python3.11/site-packages (from openai<2.0.0,>=1.10.0->langchain-openai) (1.9.0)\n",
      "Requirement already satisfied: httpx<1,>=0.23.0 in /Users/vaibhavjain/miniconda3/envs/gpt/lib/python3.11/site-packages (from openai<2.0.0,>=1.10.0->langchain-openai) (0.27.0)\n",
      "Requirement already satisfied: sniffio in /Users/vaibhavjain/miniconda3/envs/gpt/lib/python3.11/site-packages (from openai<2.0.0,>=1.10.0->langchain-openai) (1.3.0)\n",
      "Requirement already satisfied: tqdm>4 in /Users/vaibhavjain/miniconda3/envs/gpt/lib/python3.11/site-packages (from openai<2.0.0,>=1.10.0->langchain-openai) (4.65.0)\n",
      "Requirement already satisfied: typing-extensions<5,>=4.7 in /Users/vaibhavjain/miniconda3/envs/gpt/lib/python3.11/site-packages (from openai<2.0.0,>=1.10.0->langchain-openai) (4.9.0)\n",
      "Requirement already satisfied: idna<4,>=2.5 in /Users/vaibhavjain/miniconda3/envs/gpt/lib/python3.11/site-packages (from requests<3,>=2->langchain) (3.4)\n",
      "Requirement already satisfied: urllib3<1.27,>=1.21.1 in /Users/vaibhavjain/miniconda3/envs/gpt/lib/python3.11/site-packages (from requests<3,>=2->langchain) (1.26.15)\n",
      "Requirement already satisfied: certifi>=2017.4.17 in /Users/vaibhavjain/miniconda3/envs/gpt/lib/python3.11/site-packages (from requests<3,>=2->langchain) (2022.12.7)\n",
      "Requirement already satisfied: httpcore==1.* in /Users/vaibhavjain/miniconda3/envs/gpt/lib/python3.11/site-packages (from httpx<1,>=0.23.0->openai<2.0.0,>=1.10.0->langchain-openai) (1.0.4)\n",
      "Requirement already satisfied: h11<0.15,>=0.13 in /Users/vaibhavjain/miniconda3/envs/gpt/lib/python3.11/site-packages (from httpcore==1.*->httpx<1,>=0.23.0->openai<2.0.0,>=1.10.0->langchain-openai) (0.14.0)\n",
      "Requirement already satisfied: mypy-extensions>=0.3.0 in /Users/vaibhavjain/miniconda3/envs/gpt/lib/python3.11/site-packages (from typing-inspect>=0.4.0->dataclasses-json<0.7,>=0.5.7->langchain) (1.0.0)\n"
     ]
    }
   ],
   "source": [
    "!pip install --upgrade --quiet  langchain langchain-openai faiss-cpu tiktoken"
   ]
  },
  {
   "cell_type": "code",
   "execution_count": 13,
   "id": "9ea440f0-651d-412c-9eda-b4dc6ea19a4b",
   "metadata": {
    "tags": []
   },
   "outputs": [
    {
     "name": "stdout",
     "output_type": "stream",
     "text": [
      "\u001b[31mERROR: pip's dependency resolver does not currently take into account all the packages that are installed. This behaviour is the source of the following dependency conflicts.\n",
      "transformers 4.27.4 requires tokenizers!=0.11.3,<0.14,>=0.11.1, but you have tokenizers 0.15.2 which is incompatible.\u001b[0m\u001b[31m\n",
      "\u001b[0m"
     ]
    }
   ],
   "source": [
    "llama-index"
   ]
  },
  {
   "cell_type": "code",
   "execution_count": 4,
   "id": "e708598d-b201-44ca-94fb-90cf980cb353",
   "metadata": {
    "tags": []
   },
   "outputs": [
    {
     "name": "stdout",
     "output_type": "stream",
     "text": [
      "../Downloads/Weekly Focus_160224.pdf\n"
     ]
    }
   ],
   "source": [
    "!ls ../Downloads/Weekly\\ Focus_160224.pdf"
   ]
  },
  {
   "cell_type": "code",
   "execution_count": null,
   "id": "868b4df5-1fbc-4f66-81b4-a229ecd0c435",
   "metadata": {},
   "outputs": [],
   "source": [
    "import requests\n",
    "from langchain.document_loaders import TextLoader\n",
    "\n",
    "url = \"https://raw.githubusercontent.com/langchain-ai/langchain/master/docs/docs/modules/state_of_the_union.txt\"\n",
    "res = requests.get(url)\n",
    "with open(\"state_of_the_union.txt\", \"w\") as f:\n",
    "    f.write(res.text)\n",
    "\n",
    "loader = TextLoader('./state_of_the_union.txt')\n",
    "documents = loader.load()"
   ]
  },
  {
   "cell_type": "code",
   "execution_count": null,
   "id": "25060c7b-30ac-4aa6-bc61-5668efb50691",
   "metadata": {},
   "outputs": [],
   "source": [
    "from langchain.text_splitter import CharacterTextSplitter\n",
    "text_splitter = CharacterTextSplitter(chunk_size=500, chunk_overlap=50)\n",
    "chunks = text_splitter.split_documents(documents)"
   ]
  },
  {
   "cell_type": "code",
   "execution_count": null,
   "id": "8fb0e7e8-f487-4caa-bbeb-1991b6312cd0",
   "metadata": {},
   "outputs": [],
   "source": []
  },
  {
   "cell_type": "code",
   "execution_count": 6,
   "id": "a450014d-1803-4272-a639-eeb289f742a3",
   "metadata": {},
   "outputs": [],
   "source": [
    "from PyPDF2 import PdfReader\n",
    "\n",
    "reader = PdfReader(\"../Downloads/Weekly Focus_160224.pdf\")\n",
    "number_of_pages = len(reader.pages)\n",
    "page = reader.pages[0]\n",
    "text = page.extract_text()"
   ]
  },
  {
   "cell_type": "code",
   "execution_count": 7,
   "id": "19a30f0f-aacc-403e-bd71-eb9ecccecb33",
   "metadata": {
    "tags": []
   },
   "outputs": [
    {
     "data": {
      "text/plain": [
       "' \\nImportant disclosures and certificati ons are contained from page 9 of this report. https://research.danskebank.com  \\n    \\n   \\n  \\nThe overall theme for markets this week continued to be  the scaling back of \\nexpectations of rate cuts  especially in the US as the economy looks stronger, and inflation \\nhigher, than expected. However, the change should not be exaggerated. Inflation \\nexpectations are well in line with targets and indicators for banking activity in both the US \\nand Europe confirm that the current stance of monetary policy is having a dampening effect \\non economies. \\nThe latest significant upside surprise to US data was the January CPI . The core price \\nindex rose 0.4% m/m, so clearly more than what is compatible with 2% annual inflation. \\nThe increase was driven by a broad -based increase in service prices. The so -called “super \\ncore” index of services excluding shelter rose 0.85% m/m. This  likely reflected higher than \\nnormal January price adjustments to make up for past cost increases in businesses and so \\nis not likely to be repeated to the same extent in coming months, bu t nevertheless feeds into \\nconcerns in the Fed and elsewhere that a tight labour market and high wage growth could \\nmake it difficult to get service inflation down far enough.  \\nOn the negative side, US retail sales declined 0.8% in January  and were revised down \\nfor December, and industrial production declined 0.5%. Especially retail sales is a highly \\nvolatile data series though, and these numbers do not really change the view on the US \\neconomy. \\nIn Europe, the economic news has been slightly more positive this week. Employment \\ngrowth in the euro area actually accelerated in Q4  to 0.3% q/q. The labour market \\nusually reacts with a lack to the economy, so it is perhaps not surprising that the stagnating \\nEuropean economy has not yet produced a decline in jobs, but accelerating outright growth \\nin employment is harder to explain. Sur veys continue to show a large, unmet demand for \\nlabour among euro area companies. The strong labour market reduces pressure  on the ECB \\nto cut rates and adds to concerns about a potential rebound in inflation from high wage \\ngrowth. The German ZEW index showed a new increase in business expectations in \\nFebruary consistent with the view of a more positive global situation for man ufacturing, \\nalthough assessment of current conditions actually worsened.  \\nUnlike in the US, UK inflation was lower than expected in January, which helped \\ndampen market worries globally . Core CPI increased just 0.16% m/m seasonally \\nadjusted, and service prices dragged down. On the other hand, wage growth declined less \\nthan expected in December and stands at 6.2% y/y, while the unemployment rate declined \\nfrom 4.0% to 3.8%. With core infla tion still as high as 5.1% y/y, we still expect the Bank \\nof England to be cautious in cutting rates.  \\nNext week, on Thursday, we will get February PMI data for most major economies . \\nThey could show a renewed strengthening in global manufacturing. Regional PMIs \\npublished this week in the US point in that direction, as does indicators from several Asian \\ncountries that are normally leading in the manufacturing cycle. However, PMIs migh t also \\npoint to continued weakness in services which at least in the euro area seem to be stagnating \\nor contracting, albeit with rising prices .  16 February 2024 \\n         Weekly Focus  \\nData dampens rate cut expectations  \\nKey global views \\n• Weak near-term growth outlook in \\nthe US and Europe, but recovery \\nfrom summer 2024 \\n• US and euro area headline inflation \\nset to decline further, but core \\ninflation to remain sticky   \\n \\nKey market movers \\n• Tuesday: Chinese rate decision  \\n• Wednesday: euro area consumer \\nconfidence  \\n• Thursday: PMIs for major \\neconomies including US, euro area , \\nUK and Japan \\n• Friday: German Ifo survey  \\n \\nSelected reading from Danske Bank  \\n• Global Inflation Watch – \\nUnpleasant US surprise, euro \\ninflation better behaved , 13 \\nFebruary \\n• Market Guide – Global environment \\nand strong US economy to support \\nUSD, 13 February  \\n•  Research Global – buckle up for \\nEU-China trade tensions, 8 \\nFebruary  \\n \\nEditor\\nChief Economist\\nLas Olsen\\nTel +45 45 14 14 94\\nlaso@danskebank.dk'"
      ]
     },
     "execution_count": 7,
     "metadata": {},
     "output_type": "execute_result"
    }
   ],
   "source": [
    "text"
   ]
  },
  {
   "cell_type": "code",
   "execution_count": null,
   "id": "b49756fd-6c42-4d70-9072-47f7e95e6a70",
   "metadata": {},
   "outputs": [],
   "source": []
  },
  {
   "cell_type": "code",
   "execution_count": 24,
   "id": "648e7647-48c5-4dc3-bc79-8383668294ee",
   "metadata": {
    "tags": []
   },
   "outputs": [
    {
     "name": "stdout",
     "output_type": "stream",
     "text": [
      "Requirement already satisfied: wikipedia in /Users/vaibhavjain/miniconda3/envs/gpt/lib/python3.11/site-packages (1.4.0)\n",
      "Requirement already satisfied: beautifulsoup4 in /Users/vaibhavjain/miniconda3/envs/gpt/lib/python3.11/site-packages (from wikipedia) (4.12.0)\n",
      "Requirement already satisfied: requests<3.0.0,>=2.0.0 in /Users/vaibhavjain/miniconda3/envs/gpt/lib/python3.11/site-packages (from wikipedia) (2.28.2)\n",
      "Requirement already satisfied: charset-normalizer<4,>=2 in /Users/vaibhavjain/miniconda3/envs/gpt/lib/python3.11/site-packages (from requests<3.0.0,>=2.0.0->wikipedia) (3.1.0)\n",
      "Requirement already satisfied: idna<4,>=2.5 in /Users/vaibhavjain/miniconda3/envs/gpt/lib/python3.11/site-packages (from requests<3.0.0,>=2.0.0->wikipedia) (3.4)\n",
      "Requirement already satisfied: urllib3<1.27,>=1.21.1 in /Users/vaibhavjain/miniconda3/envs/gpt/lib/python3.11/site-packages (from requests<3.0.0,>=2.0.0->wikipedia) (1.26.15)\n",
      "Requirement already satisfied: certifi>=2017.4.17 in /Users/vaibhavjain/miniconda3/envs/gpt/lib/python3.11/site-packages (from requests<3.0.0,>=2.0.0->wikipedia) (2022.12.7)\n",
      "Requirement already satisfied: soupsieve>1.2 in /Users/vaibhavjain/miniconda3/envs/gpt/lib/python3.11/site-packages (from beautifulsoup4->wikipedia) (2.4)\n"
     ]
    }
   ],
   "source": [
    "!pip install wikipedia"
   ]
  },
  {
   "cell_type": "markdown",
   "id": "efaabb2d-f0ca-4cbd-ae63-355d3ca3bdec",
   "metadata": {},
   "source": [
    "## LANGCHAIN"
   ]
  },
  {
   "cell_type": "code",
   "execution_count": 25,
   "id": "af139fb0-c536-4f66-80d7-d27cbbcfe003",
   "metadata": {
    "tags": []
   },
   "outputs": [
    {
     "data": {
      "text/plain": [
       "'2\\n'"
      ]
     },
     "execution_count": 25,
     "metadata": {},
     "output_type": "execute_result"
    }
   ],
   "source": [
    "from langchain.agents import ZeroShotAgent, Tool, AgentExecutor\n",
    "from langchain import OpenAI, SerpAPIWrapper, LLMChain\n",
    "from langchain.utilities import WikipediaAPIWrapper\n",
    "from langchain.utilities import PythonREPL\n",
    "\n",
    "python_repl = PythonREPL()\n",
    "\n",
    "wikipedia = WikipediaAPIWrapper()\n",
    "\n",
    "python_repl.run(\"print(1+1)\")\n",
    "\n",
    "# wikipedia.run('HUNTER X HUNTER')\n",
    "\n",
    "\n",
    "# search = SerpAPIWrapper()\n",
    "# tools = [\n",
    "#     Tool(\n",
    "#         name = \"Search\",\n",
    "#         func=search.run,\n",
    "#         description=\"useful for when you need to answer questions about current events\"\n",
    "#     )\n",
    "# ]"
   ]
  },
  {
   "cell_type": "code",
   "execution_count": 26,
   "id": "63f9f8e9-657b-4897-a90c-a7844ca5cc00",
   "metadata": {
    "tags": []
   },
   "outputs": [],
   "source": [
    "from langchain import OpenAI, LLMMathChain, SerpAPIWrapper, SQLDatabase, SQLDatabaseChain\n",
    "from langchain.agents import initialize_agent, Tool\n",
    "from langchain.chat_models import ChatOpenAI"
   ]
  },
  {
   "cell_type": "code",
   "execution_count": 29,
   "id": "56c3521f-7b23-42b2-8e46-60c2badab2f6",
   "metadata": {
    "tags": []
   },
   "outputs": [],
   "source": [
    "llm = ChatOpenAI(temperature=0)\n",
    "llm1 = OpenAI(temperature=0)\n",
    "llm_math_chain = LLMMathChain(llm=llm1, verbose=True)\n",
    "# db = SQLDatabase.from_uri(\"sqlite:///../../../../notebooks/Chinook.db\")\n",
    "# db_chain = SQLDatabaseChain(llm=llm1, database=db, verbose=True)\n",
    "tools = [\n",
    "    # Tool(\n",
    "    #     name = \"Search\",\n",
    "    #     func=search.run,\n",
    "    #     description=\"useful for when you need to answer questions about current events. You should ask targeted questions\"\n",
    "    # ),\n",
    "    Tool(\n",
    "        name=\"Calculator\",\n",
    "        func=llm_math_chain.run,\n",
    "        description=\"useful for when you need to answer questions about math\"\n",
    "    ),\n",
    "    # Tool(\n",
    "    #     name=\"FooBar DB\",\n",
    "    #     func=db_chain.run,\n",
    "    #     description=\"useful for when you need to answer questions about FooBar. Input should be in the form of a question containing full context\"\n",
    "    # )\n",
    "]"
   ]
  },
  {
   "cell_type": "code",
   "execution_count": 31,
   "id": "5e4c413d-874f-40bc-9c4d-7c0a10192c96",
   "metadata": {
    "tags": []
   },
   "outputs": [
    {
     "name": "stdout",
     "output_type": "stream",
     "text": [
      "\n",
      "\n",
      "\u001b[1m> Entering new AgentExecutor chain...\u001b[0m\n"
     ]
    },
    {
     "name": "stderr",
     "output_type": "stream",
     "text": [
      "Retrying langchain.chat_models.openai.ChatOpenAI.completion_with_retry.<locals>._completion_with_retry in 4.0 seconds as it raised RateLimitError: You exceeded your current quota, please check your plan and billing details..\n",
      "Retrying langchain.chat_models.openai.ChatOpenAI.completion_with_retry.<locals>._completion_with_retry in 4.0 seconds as it raised RateLimitError: You exceeded your current quota, please check your plan and billing details..\n",
      "Retrying langchain.chat_models.openai.ChatOpenAI.completion_with_retry.<locals>._completion_with_retry in 4.0 seconds as it raised RateLimitError: You exceeded your current quota, please check your plan and billing details..\n",
      "Retrying langchain.chat_models.openai.ChatOpenAI.completion_with_retry.<locals>._completion_with_retry in 8.0 seconds as it raised RateLimitError: You exceeded your current quota, please check your plan and billing details..\n",
      "\n",
      "KeyboardInterrupt\n",
      "\n"
     ]
    }
   ],
   "source": [
    "mrkl = initialize_agent(tools, llm, agent=\"chat-zero-shot-react-description\", verbose=True)\n",
    "mrkl.run(\"Who is Leo DiCaprio's girlfriend? What is her current age raised to the 0.43 power?\")"
   ]
  },
  {
   "cell_type": "code",
   "execution_count": null,
   "id": "92e32934-352a-4e0f-a2ad-3f8ff3d2d29f",
   "metadata": {},
   "outputs": [],
   "source": []
  }
 ],
 "metadata": {
  "kernelspec": {
   "display_name": "Python 3 (ipykernel)",
   "language": "python",
   "name": "python3"
  },
  "language_info": {
   "codemirror_mode": {
    "name": "ipython",
    "version": 3
   },
   "file_extension": ".py",
   "mimetype": "text/x-python",
   "name": "python",
   "nbconvert_exporter": "python",
   "pygments_lexer": "ipython3",
   "version": "3.12.2"
  }
 },
 "nbformat": 4,
 "nbformat_minor": 5
}
